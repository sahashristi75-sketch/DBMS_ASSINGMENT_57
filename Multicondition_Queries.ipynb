{
  "nbformat": 4,
  "nbformat_minor": 0,
  "metadata": {
    "colab": {
      "provenance": []
    },
    "kernelspec": {
      "name": "python3",
      "display_name": "Python 3"
    },
    "language_info": {
      "name": "python"
    }
  },
  "cells": [
    {
      "cell_type": "code",
      "source": [
        "import re\n",
        "\n",
        "def extract_number(text):\n",
        "    \"\"\"Extract the first number from text, return None if not found.\"\"\"\n",
        "    match = re.search(r'\\d+', text)\n",
        "    return match.group() if match else None"
      ],
      "metadata": {
        "id": "o1krSr0hpKps"
      },
      "execution_count": 1,
      "outputs": []
    },
    {
      "cell_type": "code",
      "source": [
        "def nlq_to_sql(nl_query):\n",
        "    nl_query = nl_query.lower().strip()\n",
        "    sql = \"SELECT * FROM students\"\n",
        "    conditions = []\n",
        "\n",
        "    # Mapping for numeric fields\n",
        "    fields = {\n",
        "        \"marks\": \"marks\",\n",
        "        \"age\": \"age\"\n",
        "    }\n",
        "\n",
        "    # Numeric condition handling\n",
        "    for keyword, column in fields.items():\n",
        "        if keyword in nl_query:\n",
        "            num = extract_number(nl_query)\n",
        "            if num:\n",
        "                if \"above\" in nl_query or \"greater than\" in nl_query:\n",
        "                    conditions.append(f\"{column} > {num}\")\n",
        "                elif \"below\" in nl_query or \"less than\" in nl_query or \"younger than\" in nl_query:\n",
        "                    conditions.append(f\"{column} < {num}\")\n",
        "                elif \"equal\" in nl_query or \"equals\" in nl_query:\n",
        "                    conditions.append(f\"{column} = {num}\")\n",
        "\n",
        "    # Grade condition\n",
        "    grade_match = re.search(r\"grade\\s*([a-z])\", nl_query)\n",
        "    if grade_match:\n",
        "        grade_value = grade_match.group(1).upper()\n",
        "        conditions.append(f\"grade = '{grade_value}'\")\n",
        "\n",
        "    # Combine conditions\n",
        "    if conditions:\n",
        "        if \" and \" in nl_query:\n",
        "            sql += \" WHERE \" + \" AND \".join(conditions)\n",
        "        elif \" or \" in nl_query:\n",
        "            sql += \" WHERE \" + \" OR \".join(conditions)\n",
        "        else:\n",
        "            sql += \" WHERE \" + \" AND \".join(conditions)\n",
        "    else:\n",
        "        sql += \";\"\n",
        "\n",
        "    return sql"
      ],
      "metadata": {
        "id": "HlR_k9v3pW99"
      },
      "execution_count": 2,
      "outputs": []
    },
    {
      "cell_type": "code",
      "source": [
        "if __name__ == \"__main__\":\n",
        "    print(\"Natural Language to SQL Converter (Alternative Version)\")\n",
        "    print(\"Examples:\")\n",
        "    print(\"- Show all students with marks above 80\")\n",
        "    print(\"- List students older than 20 and with grade A\\n\")\n",
        "\n",
        "    user_query = input(\"Enter your query: \")\n",
        "    sql_query = nlq_to_sql(user_query)\n",
        "\n",
        "    print(\"\\nGenerated SQL Query:\")\n",
        "    print(sql_query)"
      ],
      "metadata": {
        "colab": {
          "base_uri": "https://localhost:8080/"
        },
        "id": "UGNPkLqhpeQO",
        "outputId": "98b569e6-2232-4bcf-d082-19d6b74b87b0"
      },
      "execution_count": 4,
      "outputs": [
        {
          "output_type": "stream",
          "name": "stdout",
          "text": [
            "Natural Language to SQL Converter (Alternative Version)\n",
            "Examples:\n",
            "- Show all students with marks above 80\n",
            "- List students older than 20 and with grade A\n",
            "\n",
            "Enter your query: show all students with marks above 80\n",
            "\n",
            "Generated SQL Query:\n",
            "SELECT * FROM students WHERE marks > 80\n"
          ]
        }
      ]
    }
  ]
}
