{
  "nbformat": 4,
  "nbformat_minor": 0,
  "metadata": {
    "colab": {
      "provenance": []
    },
    "kernelspec": {
      "name": "python3",
      "display_name": "Python 3"
    },
    "language_info": {
      "name": "python"
    }
  },
  "cells": [
    {
      "cell_type": "code",
      "source": [
        "import re"
      ],
      "metadata": {
        "id": "ClYdW4vouCx0"
      },
      "execution_count": 1,
      "outputs": []
    },
    {
      "cell_type": "code",
      "source": [
        "def nlq_to_sql_aggregate(nl_query):\n",
        "    nl_query = nl_query.lower().strip()\n",
        "\n",
        "    # Default SQL\n",
        "    sql = \"SELECT * FROM students;\"\n",
        "\n",
        "    # Aggregate mappings\n",
        "    aggregates = {\n",
        "        \"average\": \"AVG\",\n",
        "        \"avg\": \"AVG\",\n",
        "        \"maximum\": \"MAX\",\n",
        "        \"max\": \"MAX\",\n",
        "        \"minimum\": \"MIN\",\n",
        "        \"min\": \"MIN\",\n",
        "        \"sum\": \"SUM\",\n",
        "        \"total\": \"SUM\",\n",
        "        \"count\": \"COUNT\",\n",
        "        \"number of\": \"COUNT\"\n",
        "    }\n",
        "\n",
        "    # Columns that may be targeted\n",
        "    possible_columns = [\"marks\", \"age\", \"grade\", \"students\"]\n",
        "\n",
        "    selected_agg = None\n",
        "    selected_col = None\n",
        "\n",
        "    # Detect aggregate keyword\n",
        "    for word, sql_func in aggregates.items():\n",
        "        if word in nl_query:\n",
        "            selected_agg = sql_func\n",
        "            break\n",
        "\n",
        "    # Detect column\n",
        "    for col in possible_columns:\n",
        "        if col in nl_query:\n",
        "            # Special case: count students → COUNT(*)\n",
        "            if selected_agg == \"COUNT\" and col == \"students\":\n",
        "                selected_col = \"*\"\n",
        "            else:\n",
        "                selected_col = col\n",
        "            break\n",
        "\n",
        "    # If aggregate found\n",
        "    if selected_agg and selected_col:\n",
        "        sql = f\"SELECT {selected_agg}({selected_col}) FROM students;\"\n",
        "\n",
        "    return sql"
      ],
      "metadata": {
        "id": "u0NMuDG9uMvU"
      },
      "execution_count": 2,
      "outputs": []
    },
    {
      "cell_type": "code",
      "source": [
        "if __name__ == \"__main__\":\n",
        "    print(\"Natural Language to SQL Converter (Aggregate Queries)\")\n",
        "    print(\"Examples:\")\n",
        "    print(\"- Show the average marks of students\")\n",
        "    print(\"- Find the maximum age\")\n",
        "    print(\"- Count number of students with grade A\\n\")\n",
        "\n",
        "    user_query = input(\"Enter your query: \")\n",
        "    sql_query = nlq_to_sql_aggregate(user_query)\n",
        "\n",
        "    print(\"\\nGenerated SQL Query:\")\n",
        "    print(sql_query)\n"
      ],
      "metadata": {
        "colab": {
          "base_uri": "https://localhost:8080/"
        },
        "id": "CpXNAe97uSdP",
        "outputId": "700a55e2-53a8-46dd-8dc1-eda5cbe2475e"
      },
      "execution_count": 6,
      "outputs": [
        {
          "output_type": "stream",
          "name": "stdout",
          "text": [
            "Natural Language to SQL Converter (Aggregate Queries)\n",
            "Examples:\n",
            "- Show the average marks of students\n",
            "- Find the maximum age\n",
            "- Count number of students with grade A\n",
            "\n",
            "Enter your query: shoe minimum marks of students\n",
            "\n",
            "Generated SQL Query:\n",
            "SELECT MIN(marks) FROM students;\n"
          ]
        }
      ]
    }
  ]
}